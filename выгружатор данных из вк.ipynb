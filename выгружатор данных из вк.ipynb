{
 "cells": [
  {
   "cell_type": "markdown",
   "metadata": {},
   "source": [
    "## get the text"
   ]
  },
  {
   "cell_type": "markdown",
   "metadata": {},
   "source": [
    "### еще дела\n",
    "\n",
    "- попробовать extended=1 для комментов"
   ]
  },
  {
   "cell_type": "code",
   "execution_count": 15,
   "metadata": {},
   "outputs": [
    {
     "data": {
      "text/plain": [
       "'https://api.vk.com/method/users.get?user_id=210700286&v=5.52'"
      ]
     },
     "execution_count": 15,
     "metadata": {},
     "output_type": "execute_result"
    }
   ],
   "source": [
    "'https://api.vk.com/method/users.get?user_id=210700286&v=5.52'\n",
    "\n",
    "'https://vk.com/shitshenotlikeothergirls'\n",
    "\n",
    "'https://oauth.vk.com/authorize?client_id=7665299&display=page&redirect_uri=https://oauth.vk.com/blank.html&scope=offline&response_type=token&v=5.52'"
   ]
  },
  {
   "cell_type": "markdown",
   "metadata": {},
   "source": [
    "## чистовик"
   ]
  },
  {
   "cell_type": "code",
   "execution_count": 49,
   "metadata": {},
   "outputs": [],
   "source": [
    "import requests\n",
    "import re\n",
    "import json\n",
    "import csv\n",
    "import time\n",
    "import random\n",
    "\n",
    "token = 'acadb24bacadb24bacadb24bdfacd944d8aacadacadb24bccc70b3e0abb60674a6e4c48'\n",
    "\n",
    "# set method dictionaries to make links\n",
    "\n",
    "wall = {'method':'wall.get',\n",
    "        'domain':'',\n",
    "        'offset':'0',\n",
    "        'count':'100',\n",
    "        'v':'5.130'}\n",
    "\n",
    "comm = {'method':'wall.getComments',\n",
    "        'owner_id':'',\n",
    "        'post_id':'',\n",
    "        'offset':'0',\n",
    "        'count':'',\n",
    "        'thread_items_count':'',\n",
    "        'v':'5.130'}\n",
    "\n",
    "num_id = {'method':'utils.resolveScreenName',\n",
    "          'screen_name':'',\n",
    "          'v':'5.130'}\n",
    "\n",
    "# turn method dicts into urls\n",
    "\n",
    "def url_maker(urlparts):\n",
    "    \n",
    "    url = 'https://api.vk.com/method/' + urlparts['method'] + '?'\n",
    "    for ele in urlparts:\n",
    "        if ele != 'v' and ele != 'method':\n",
    "            url += str(ele) + '=' + str(urlparts[ele]) + '&'\n",
    "        elif ele == 'v':\n",
    "            url += str(ele) + '=' + str(urlparts[ele])\n",
    "    url += '&access_token=' + str(token)\n",
    "            \n",
    "    return url\n",
    "\n",
    "# gets whatever a method returns in json format\n",
    "\n",
    "def url_getter(url):\n",
    "    r = requests.get(url, allow_redirects=True)\n",
    "    time.sleep(0.33)\n",
    "    return json.loads(r.content)\n",
    "\n",
    "# returns how much time is needed to process\n",
    "\n",
    "def wait_time(req_count):\n",
    "    secs = int(req_count * 0.33)\n",
    "    return time.strftime('estimated time remaining: %H hours %M minutes %S seconds', time.gmtime(secs))"
   ]
  },
  {
   "cell_type": "code",
   "execution_count": 50,
   "metadata": {},
   "outputs": [],
   "source": [
    "# returns a list of posts on the wall\n",
    "\n",
    "def get_posts():\n",
    "    \n",
    "    wall = {'method':'wall.get',\n",
    "        'domain':'',\n",
    "        'offset':'0',\n",
    "        'count':'100',\n",
    "        'v':'5.130'}\n",
    "    \n",
    "    global domain\n",
    "    wall['domain'] = domain\n",
    "    \n",
    "    wall_url = url_maker(wall)\n",
    "    post_count = url_getter(wall_url)['response']['count']\n",
    "    print(wait_time(post_count))\n",
    "    posts = []\n",
    "\n",
    "    while post_count > 0:\n",
    "        posts.extend(url_getter(url_maker(wall))['response']['items'])\n",
    "        if post_count < 100:\n",
    "            wall['count'] = post_count\n",
    "            wall['offset'] = int(wall['offset']) + 100\n",
    "            post_count = 0\n",
    "        else:\n",
    "            wall['offset'] = int(wall['offset']) + 100\n",
    "            post_count -= 100\n",
    "\n",
    "    return posts"
   ]
  },
  {
   "cell_type": "code",
   "execution_count": 51,
   "metadata": {},
   "outputs": [],
   "source": [
    "# ONLY WORKS AFTER get_posts METHOD IS USED\n",
    "# onlu gets comments made by people (not groups; they have no meta info)\n",
    "# returns a list of comments AND comment replies on the wall\n",
    "\n",
    "def get_comments():\n",
    "\n",
    "    global domain, posts\n",
    "\n",
    "    comm = {'method':'wall.getComments',\n",
    "            'owner_id':'',\n",
    "            'post_id':'',\n",
    "            'offset':'0',\n",
    "            'count':'100',\n",
    "            'thread_items_count':'10',\n",
    "            'v':'5.130'}\n",
    "\n",
    "    num_id = {'method':'utils.resolveScreenName',\n",
    "              'screen_name':'',\n",
    "              'v':'5.130'}\n",
    "\n",
    "    num_id['screen_name'] = domain\n",
    "\n",
    "    num_id_url = url_maker(num_id)\n",
    "    l = str(url_getter(num_id_url)['response']['object_id'])\n",
    "    comm['owner_id'] = '-' + l\n",
    "\n",
    "    comm_posts_ids = []\n",
    "    thr_comm_ids = {}\n",
    "    comments = []\n",
    "\n",
    "    for ele in posts:\n",
    "        if ele['comments']['count'] > 0:\n",
    "            comm_posts_ids.append(ele['id'])\n",
    "\n",
    "    for ele in comm_posts_ids:\n",
    "        comm['post_id'] = ele\n",
    "        req = url_getter(url_maker(comm))\n",
    "        if 'response' not in req.keys():\n",
    "            print(req)\n",
    "            continue\n",
    "        comm_count = req['response']['count']\n",
    "\n",
    "        while comm_count > 0:\n",
    "            comment = req['response']['items']\n",
    "            if type(comment) == list:\n",
    "                comments.extend(comment)\n",
    "            else:\n",
    "                comments.append(comment)\n",
    "\n",
    "            for c in comment:\n",
    "                if c['thread']['count'] > 0:\n",
    "                    thr_comm_ids[c['id']] = c['thread']['count']\n",
    "\n",
    "            if comm_count <= 100:\n",
    "                comm['count'] = comm_count\n",
    "                comm_count = 0\n",
    "            else:\n",
    "                comm['offset'] = int(comm['offset']) + 100\n",
    "                comm_count -= 100\n",
    "\n",
    "    replies = []\n",
    "\n",
    "    for comment in comments:\n",
    "        if 'thread' in comment.keys():\n",
    "            if comment['thread']['count'] > 0:\n",
    "                replies.extend(comment['thread']['items'])\n",
    "        else:\n",
    "            replies.append(comment)\n",
    "\n",
    "    comments.extend(replies)\n",
    "\n",
    "    return comments"
   ]
  },
  {
   "cell_type": "code",
   "execution_count": 52,
   "metadata": {},
   "outputs": [],
   "source": [
    "# set of table fieldnames\n",
    "\n",
    "fieldnames = set()\n",
    "\n",
    "# makes a table row\n",
    "\n",
    "def dic_maker(comment):\n",
    "    \n",
    "    global fieldnames\n",
    "    dic = {}\n",
    "    fields = ['sex', 'bdate', 'city', 'country', \n",
    "              'home_town', 'has_mobile', 'education', \n",
    "              'universities', 'schools', 'occupation', \n",
    "              'relation', 'timezone']\n",
    "\n",
    "    user = {'method':'users.get',\n",
    "            'user_ids':'',\n",
    "            'fields':','.join(fields),\n",
    "            'v':'5.130'}\n",
    "    \n",
    "    if 'text' in comment.keys():\n",
    "        dic['text'] = comment['text']\n",
    "        user['user_ids'] = comment['from_id']\n",
    "        req = url_getter(url_maker(user))\n",
    "        if 'response' in req.keys():\n",
    "            for ele in req['response']:\n",
    "                dic.update(ele)\n",
    "                fieldnames.update(set(dic.keys()))\n",
    "                return dic\n",
    "\n",
    "# writes table rows into a specified file      \n",
    "        \n",
    "def make_table(comments, filename):\n",
    "    \n",
    "    global fieldnames\n",
    "    table = []\n",
    "    \n",
    "    for comment in comments:\n",
    "        dic = dic_maker(comment)\n",
    "        if dic:\n",
    "            table.append(dic)\n",
    "\n",
    "    with open(filename, 'w') as f:\n",
    "        writer = csv.DictWriter(f, fieldnames, delimiter=';')\n",
    "\n",
    "        writer.writeheader()\n",
    "        for ele in table:\n",
    "            writer.writerow(ele)"
   ]
  },
  {
   "cell_type": "markdown",
   "metadata": {},
   "source": [
    "## user interface"
   ]
  },
  {
   "cell_type": "code",
   "execution_count": 53,
   "metadata": {},
   "outputs": [],
   "source": [
    "# user inserts a link to a vk group\n",
    "\n",
    "def ask_link():\n",
    "\n",
    "    link = input('Paste a link to a vk group of your choice: ')\n",
    "\n",
    "    group = {'method':'groups.getById',\n",
    "             'group_id':'',\n",
    "             'group_ids':'',\n",
    "             'fields':'',\n",
    "             'v':'5.130'}\n",
    "\n",
    "    domain = re.findall(r'https://vk.com/(.*)', link)[0]\n",
    "    group['group_id']  = domain\n",
    "    group['group_ids']  = domain\n",
    "\n",
    "    req = url_getter(url_maker(group))\n",
    "    if req['response'][0]['is_closed'] == 1:\n",
    "        print('error: the group is closed')\n",
    "    else:\n",
    "        return domain"
   ]
  },
  {
   "cell_type": "markdown",
   "metadata": {},
   "source": [
    "## черновик"
   ]
  },
  {
   "cell_type": "code",
   "execution_count": 56,
   "metadata": {},
   "outputs": [
    {
     "name": "stdout",
     "output_type": "stream",
     "text": [
      "Paste a link to a vk group of your choice: https://vk.com/petrzvonov\n",
      "estimated time remaining: 01 hours 32 minutes 11 seconds\n"
     ]
    }
   ],
   "source": [
    "domain = ask_link()\n",
    "\n",
    "posts = get_posts()\n",
    "comments = get_comments()\n",
    "\n",
    "make_table(comments, 'resss.csv')"
   ]
  },
  {
   "cell_type": "code",
   "execution_count": 370,
   "metadata": {},
   "outputs": [
    {
     "data": {
      "text/plain": [
       "54"
      ]
     },
     "execution_count": 370,
     "metadata": {},
     "output_type": "execute_result"
    }
   ],
   "source": [
    "len(comments)"
   ]
  },
  {
   "cell_type": "code",
   "execution_count": 250,
   "metadata": {},
   "outputs": [
    {
     "name": "stdout",
     "output_type": "stream",
     "text": [
      "https://api.vk.com/method/utils.resolveScreenName?screen_name=aia_iam&v=5.130&access_token=acadb24bacadb24bacadb24bdfacd944d8aacadacadb24bccc70b3e0abb60674a6e4c48\n"
     ]
    }
   ],
   "source": [
    "link = 'https://vk.com/aia_iam'\n",
    "\n",
    "domain = re.findall(r'https://vk.com/(.*)', link)[0]\n",
    "wall = {'method':'wall.get',\n",
    "        'domain':'',\n",
    "        'offset':'0',\n",
    "        'count':'100',\n",
    "        'v':'5.130'}\n",
    "\n",
    "wall['domain'] = domain\n",
    "num_id['screen_name'] = domain\n",
    "\n",
    "num_id_url = url_maker(num_id)\n",
    "print(num_id_url)\n",
    "l = str(url_getter(num_id_url)['response']['object_id'])\n",
    "comm['owner_id'] = '-' + l"
   ]
  },
  {
   "cell_type": "code",
   "execution_count": 251,
   "metadata": {},
   "outputs": [],
   "source": [
    "wall_url = url_maker(wall)\n",
    "post_count = url_getter(wall_url)['response']['count']\n",
    "posts = []\n",
    "\n",
    "while post_count > 0:\n",
    "    req = url_getter(url_maker(wall))\n",
    "    if 'response' not in req.keys():\n",
    "        break\n",
    "    posts.extend(req['response']['items'])\n",
    "    if post_count < 100:\n",
    "        wall['count'] = post_count\n",
    "        wall['offset'] = int(wall['offset']) + 100\n",
    "        post_count = 0\n",
    "    else:\n",
    "        wall['offset'] = int(wall['offset']) + 100\n",
    "        post_count -= 100"
   ]
  },
  {
   "cell_type": "code",
   "execution_count": 252,
   "metadata": {},
   "outputs": [],
   "source": [
    "comm = {'method':'wall.getComments',\n",
    "        'owner_id':'',\n",
    "        'post_id':'',\n",
    "        'offset':'0',\n",
    "        'count':'',\n",
    "        'thread_items_count':'10',\n",
    "        'v':'5.130'}\n",
    "\n",
    "num_id = {'method':'utils.resolveScreenName',\n",
    "          'screen_name':'',\n",
    "          'v':'5.130'}\n",
    "\n",
    "num_id['screen_name'] = domain\n",
    "\n",
    "num_id_url = url_maker(num_id)\n",
    "l = str(url_getter(num_id_url)['response']['object_id'])\n",
    "comm['owner_id'] = '-' + l"
   ]
  },
  {
   "cell_type": "code",
   "execution_count": 253,
   "metadata": {},
   "outputs": [],
   "source": [
    "comm_posts_ids = []\n",
    "thr_comm_ids = {}\n",
    "comments = []\n",
    "\n",
    "for ele in posts:\n",
    "    if ele['comments']['count'] > 0:\n",
    "        comm_posts_ids.append(ele['id'])\n",
    "                        \n",
    "for ele in comm_posts_ids:\n",
    "    comm['post_id'] = ele\n",
    "    req = url_getter(url_maker(comm))\n",
    "    comm_count = req['response']['count']\n",
    "    \n",
    "    while comm_count > 0:\n",
    "        comment = req['response']['items']\n",
    "        if type(comment) == list:\n",
    "            comments.extend(comment)\n",
    "        else:\n",
    "            comments.append(comment)\n",
    "            \n",
    "        for c in comment:\n",
    "            if c['thread']['count'] > 0:\n",
    "                thr_comm_ids[c['id']] = c['thread']['count']\n",
    "    \n",
    "        if comm_count <= 100:\n",
    "            comm['count'] = comm_count\n",
    "            comm_count = 0\n",
    "        else:\n",
    "            comm['offset'] = int(comm['offset']) + 100\n",
    "            comm_count -= 100"
   ]
  },
  {
   "cell_type": "code",
   "execution_count": 254,
   "metadata": {},
   "outputs": [],
   "source": [
    "replies = []\n",
    "\n",
    "for comment in comments:\n",
    "    if 'thread' in comment.keys():\n",
    "        if comment['thread']['count'] > 0:\n",
    "            replies.extend(comment['thread']['items'])\n",
    "    else:\n",
    "        replies.append(comment)\n",
    "\n",
    "comments.extend(replies)"
   ]
  },
  {
   "cell_type": "code",
   "execution_count": 255,
   "metadata": {
    "scrolled": true
   },
   "outputs": [],
   "source": [
    "table = []\n",
    "fieldnames = set()\n",
    "\n",
    "def dic_maker(comment):\n",
    "    \n",
    "    dic = {}\n",
    "    fields = ['sex', 'bdate', 'city', 'country', \n",
    "              'home_town', 'has_mobile', 'education', \n",
    "              'universities', 'schools', 'occupation', \n",
    "              'relation', 'timezone']\n",
    "\n",
    "    user = {'method':'users.get',\n",
    "            'user_ids':'',\n",
    "            'fields':','.join(fields),\n",
    "            'v':'5.130'}\n",
    "    \n",
    "    dic['text'] = comment['text']\n",
    "    user['user_ids'] = comment['from_id']\n",
    "    req = url_getter(url_maker(user))\n",
    "    if 'response' in req.keys():\n",
    "        for ele in req['response']:\n",
    "            dic.update(ele)\n",
    "            fieldnames.update(set(dic.keys()))\n",
    "            return dic\n",
    "\n",
    "for comment in comments:\n",
    "    dic = dic_maker(comment)\n",
    "    if dic:\n",
    "        table.append(dic)"
   ]
  },
  {
   "cell_type": "code",
   "execution_count": 247,
   "metadata": {},
   "outputs": [
    {
     "name": "stdout",
     "output_type": "stream",
     "text": [
      "{'can_access_closed', 'occupation', 'universities', 'schools', 'first_name', 'is_closed', 'city', 'graduation', 'text', 'sex', 'bdate', 'faculty', 'has_mobile', 'last_name', 'university_name', 'relation', 'faculty_name', 'university', 'education_form', 'id', 'country', 'home_town'}\n"
     ]
    }
   ],
   "source": [
    "print(fieldnames)\n",
    "\n",
    "with open('results.csv', 'w') as f:\n",
    "    writer = csv.DictWriter(f, fieldnames, delimiter=',')\n",
    "    \n",
    "    writer.writeheader()\n",
    "    for ele in table:\n",
    "        writer.writerow(ele)"
   ]
  },
  {
   "cell_type": "code",
   "execution_count": 248,
   "metadata": {},
   "outputs": [
    {
     "data": {
      "text/plain": [
       "17"
      ]
     },
     "execution_count": 248,
     "metadata": {},
     "output_type": "execute_result"
    }
   ],
   "source": [
    "len(comments)"
   ]
  },
  {
   "cell_type": "markdown",
   "metadata": {},
   "source": [
    "## вдруг пригодится"
   ]
  },
  {
   "cell_type": "code",
   "execution_count": 294,
   "metadata": {},
   "outputs": [
    {
     "name": "stdout",
     "output_type": "stream",
     "text": [
      "{'error': {'error_code': 6, 'error_msg': 'Too many requests per second', 'request_params': [{'key': 'owner_id', 'value': '-25232578'}, {'key': 'post_id', 'value': '9283038'}, {'key': 'offset', 'value': '0'}, {'key': 'count', 'value': '27'}, {'key': 'thread_items_count', 'value': '10'}, {'key': 'v', 'value': '5.130'}, {'key': 'method', 'value': 'wall.getComments'}, {'key': 'oauth', 'value': '1'}]}}\n",
      "{'error': {'error_code': 6, 'error_msg': 'Too many requests per second', 'request_params': [{'key': 'owner_id', 'value': '-25232578'}, {'key': 'post_id', 'value': '9283041'}, {'key': 'offset', 'value': '0'}, {'key': 'count', 'value': '27'}, {'key': 'thread_items_count', 'value': '10'}, {'key': 'v', 'value': '5.130'}, {'key': 'method', 'value': 'wall.getComments'}, {'key': 'oauth', 'value': '1'}]}}\n",
      "{'error': {'error_code': 6, 'error_msg': 'Too many requests per second', 'request_params': [{'key': 'owner_id', 'value': '-25232578'}, {'key': 'post_id', 'value': '9283051'}, {'key': 'offset', 'value': '0'}, {'key': 'count', 'value': '27'}, {'key': 'thread_items_count', 'value': '10'}, {'key': 'v', 'value': '5.130'}, {'key': 'method', 'value': 'wall.getComments'}, {'key': 'oauth', 'value': '1'}]}}\n",
      "{'error': {'error_code': 15, 'error_msg': 'Access denied: post was not found check post_id param', 'request_params': [{'key': 'owner_id', 'value': '-25232578'}, {'key': 'post_id', 'value': '9283063'}, {'key': 'offset', 'value': '0'}, {'key': 'count', 'value': '27'}, {'key': 'thread_items_count', 'value': '10'}, {'key': 'v', 'value': '5.130'}, {'key': 'method', 'value': 'wall.getComments'}, {'key': 'oauth', 'value': '1'}]}}\n",
      "{'error': {'error_code': 15, 'error_msg': 'Access denied: post was not found check post_id param', 'request_params': [{'key': 'owner_id', 'value': '-25232578'}, {'key': 'post_id', 'value': '9283078'}, {'key': 'offset', 'value': '0'}, {'key': 'count', 'value': '27'}, {'key': 'thread_items_count', 'value': '10'}, {'key': 'v', 'value': '5.130'}, {'key': 'method', 'value': 'wall.getComments'}, {'key': 'oauth', 'value': '1'}]}}\n",
      "{'error': {'error_code': 15, 'error_msg': 'Access denied: post was not found check post_id param', 'request_params': [{'key': 'owner_id', 'value': '-25232578'}, {'key': 'post_id', 'value': '9283090'}, {'key': 'offset', 'value': '0'}, {'key': 'count', 'value': '27'}, {'key': 'thread_items_count', 'value': '10'}, {'key': 'v', 'value': '5.130'}, {'key': 'method', 'value': 'wall.getComments'}, {'key': 'oauth', 'value': '1'}]}}\n",
      "{'error': {'error_code': 15, 'error_msg': 'Access denied: post was not found check post_id param', 'request_params': [{'key': 'owner_id', 'value': '-25232578'}, {'key': 'post_id', 'value': '9283106'}, {'key': 'offset', 'value': '0'}, {'key': 'count', 'value': '27'}, {'key': 'thread_items_count', 'value': '10'}, {'key': 'v', 'value': '5.130'}, {'key': 'method', 'value': 'wall.getComments'}, {'key': 'oauth', 'value': '1'}]}}\n"
     ]
    }
   ],
   "source": [
    "for post in thr_comm_ids:\n",
    "    comm['offset'] = '0'\n",
    "    comm['post_id'] = str(post)\n",
    "    if int(count) < 10:\n",
    "        comm['thread_items_count'] = str(thr_comm_ids[post])\n",
    "    else:\n",
    "        comm['thread_items_count'] = '10'\n",
    "    req = url_getter(url_maker(comm))\n",
    "    print(req)"
   ]
  },
  {
   "cell_type": "code",
   "execution_count": 20,
   "metadata": {},
   "outputs": [],
   "source": [
    "def wait_time(req_count):\n",
    "    secs = int(req_count * 0.33)\n",
    "    return time.strftime('%H hours %M minutes %S seconds', time.gmtime(secs))"
   ]
  },
  {
   "cell_type": "code",
   "execution_count": null,
   "metadata": {},
   "outputs": [],
   "source": []
  }
 ],
 "metadata": {
  "kernelspec": {
   "display_name": "Python 3",
   "language": "python",
   "name": "python3"
  },
  "language_info": {
   "codemirror_mode": {
    "name": "ipython",
    "version": 3
   },
   "file_extension": ".py",
   "mimetype": "text/x-python",
   "name": "python",
   "nbconvert_exporter": "python",
   "pygments_lexer": "ipython3",
   "version": "3.8.6"
  }
 },
 "nbformat": 4,
 "nbformat_minor": 4
}
